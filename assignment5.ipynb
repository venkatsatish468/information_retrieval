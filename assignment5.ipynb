{
 "cells": [
  {
   "cell_type": "markdown",
   "metadata": {},
   "source": [
    "## Assignment 5"
   ]
  },
  {
   "cell_type": "code",
   "execution_count": 1,
   "metadata": {},
   "outputs": [],
   "source": [
    "import pandas as pd\n",
    "import numpy as np\n",
    "import matplotlib.pyplot as plt\n",
    "from matplotlib.ticker import PercentFormatter"
   ]
  },
  {
   "cell_type": "markdown",
   "metadata": {},
   "source": [
    "## Part1 recall and precision"
   ]
  },
  {
   "cell_type": "code",
   "execution_count": 2,
   "metadata": {},
   "outputs": [],
   "source": [
    "def getRecallAndPrecision(relatedDocuments,answerSet):\n",
    "    recall_list = []\n",
    "    precision_list = []\n",
    "    common_documents = []\n",
    "    count = 1\n",
    "    for i in range(len(answerSet)):\n",
    "        if answer_set[i] in relatedDocuments:\n",
    "            recall = (count/len(relatedDocuments))\n",
    "            precision = (count/(i+1))\n",
    "            precision_list.append(precision)\n",
    "            recall_list.append(recall)\n",
    "            common_documents.append(answer_set[i])\n",
    "            count = count+1\n",
    "    return recall_list,precision_list,common_documents\n",
    "\n",
    "def getDataFrame(recall_list,precision_list,common_documents):\n",
    "    df = pd.DataFrame(list(zip(recall_list, precision_list)), index = common_documents, columns =[\"Recall\",\"Precision\"])\n",
    "    return df\n",
    "\n",
    "def getR_precision(relatedDocument,answerSet):\n",
    "    r_precision = 0\n",
    "    common = []\n",
    "    for i in range(len(relatedDocument)):\n",
    "        if answerSet[i] in relatedDocument:\n",
    "            common.append(answerSet[i])\n",
    "    r_precision = (len(common))/(len(relatedDocument))\n",
    "    return r_precision\n",
    "\n",
    "def standard11Recall(data):\n",
    "    recall = [0]\n",
    "    precision = [data[\"precision\"][0]]\n",
    "    for i in np.arange(0.1,1.1,0.1):\n",
    "        i = round(i,1)\n",
    "        recall.append(i)\n",
    "        if len(data[\"recall\"])==0:\n",
    "            precision.append(0)\n",
    "        else:\n",
    "            if data[\"recall\"][0]>i:\n",
    "                precision.append(data[\"precision\"][0])\n",
    "                \n",
    "            elif data[\"recall\"][0]==i:\n",
    "                precision.append(data[\"precision\"][0])\n",
    "                data[\"recall\"].pop(0)\n",
    "                data[\"precision\"].pop(0)\n",
    "                \n",
    "            else:\n",
    "                data[\"recall\"].pop(0)\n",
    "                data[\"precision\"].pop(0)\n",
    "                precision.append(data[\"precision\"][0])\n",
    "           \n",
    "    return recall,precision\n",
    "\n"
   ]
  },
  {
   "cell_type": "code",
   "execution_count": 3,
   "metadata": {},
   "outputs": [],
   "source": [
    "related_documents = [\"d3\",\"d5\",\"d9\",\"d25\",\"d39\",\"d44\",\"d56\",\"d71\",\"d89\",\"d123\"]\n",
    "answer_set = [\"d123\",\"d84\",\"d56\",\"d6\",\"d8\",\"d9\",\"d511\",\"d129\",\"d187\",\"d25\",\"d38\",\"d48\",\"d250\",\"d113\",\"d3\"]"
   ]
  },
  {
   "cell_type": "code",
   "execution_count": 4,
   "metadata": {},
   "outputs": [],
   "source": [
    "related_documents_2 = [\"d3\",\"d56\",\"d129\"]\n",
    "answer_set_2 = [\"d123\",\"d84\",\"d56\",\"d6\",\"d8\",\"d9\",\"d511\",\"d129\",\"d187\",\"d25\",\"d38\",\"d48\",\"d250\",\"d113\",\"d3\"]"
   ]
  },
  {
   "cell_type": "code",
   "execution_count": 5,
   "metadata": {},
   "outputs": [
    {
     "data": {
      "text/html": [
       "<div>\n",
       "<style scoped>\n",
       "    .dataframe tbody tr th:only-of-type {\n",
       "        vertical-align: middle;\n",
       "    }\n",
       "\n",
       "    .dataframe tbody tr th {\n",
       "        vertical-align: top;\n",
       "    }\n",
       "\n",
       "    .dataframe thead th {\n",
       "        text-align: right;\n",
       "    }\n",
       "</style>\n",
       "<table border=\"1\" class=\"dataframe\">\n",
       "  <thead>\n",
       "    <tr style=\"text-align: right;\">\n",
       "      <th></th>\n",
       "      <th>Recall</th>\n",
       "      <th>Precision</th>\n",
       "    </tr>\n",
       "  </thead>\n",
       "  <tbody>\n",
       "    <tr>\n",
       "      <th>d123</th>\n",
       "      <td>0.1</td>\n",
       "      <td>1.000000</td>\n",
       "    </tr>\n",
       "    <tr>\n",
       "      <th>d56</th>\n",
       "      <td>0.2</td>\n",
       "      <td>0.666667</td>\n",
       "    </tr>\n",
       "    <tr>\n",
       "      <th>d9</th>\n",
       "      <td>0.3</td>\n",
       "      <td>0.500000</td>\n",
       "    </tr>\n",
       "    <tr>\n",
       "      <th>d25</th>\n",
       "      <td>0.4</td>\n",
       "      <td>0.400000</td>\n",
       "    </tr>\n",
       "    <tr>\n",
       "      <th>d3</th>\n",
       "      <td>0.5</td>\n",
       "      <td>0.333333</td>\n",
       "    </tr>\n",
       "  </tbody>\n",
       "</table>\n",
       "</div>"
      ],
      "text/plain": [
       "      Recall  Precision\n",
       "d123     0.1   1.000000\n",
       "d56      0.2   0.666667\n",
       "d9       0.3   0.500000\n",
       "d25      0.4   0.400000\n",
       "d3       0.5   0.333333"
      ]
     },
     "execution_count": 5,
     "metadata": {},
     "output_type": "execute_result"
    }
   ],
   "source": [
    "recallList,precisionList,commonDocuments=getRecallAndPrecision(related_documents,answer_set)\n",
    "df = getDataFrame(recallList,precisionList,commonDocuments)\n",
    "df"
   ]
  },
  {
   "cell_type": "code",
   "execution_count": 6,
   "metadata": {},
   "outputs": [
    {
     "data": {
      "text/html": [
       "<div>\n",
       "<style scoped>\n",
       "    .dataframe tbody tr th:only-of-type {\n",
       "        vertical-align: middle;\n",
       "    }\n",
       "\n",
       "    .dataframe tbody tr th {\n",
       "        vertical-align: top;\n",
       "    }\n",
       "\n",
       "    .dataframe thead th {\n",
       "        text-align: right;\n",
       "    }\n",
       "</style>\n",
       "<table border=\"1\" class=\"dataframe\">\n",
       "  <thead>\n",
       "    <tr style=\"text-align: right;\">\n",
       "      <th></th>\n",
       "      <th>Recall</th>\n",
       "      <th>Precision</th>\n",
       "    </tr>\n",
       "  </thead>\n",
       "  <tbody>\n",
       "    <tr>\n",
       "      <th>d56</th>\n",
       "      <td>0.333333</td>\n",
       "      <td>0.333333</td>\n",
       "    </tr>\n",
       "    <tr>\n",
       "      <th>d129</th>\n",
       "      <td>0.666667</td>\n",
       "      <td>0.250000</td>\n",
       "    </tr>\n",
       "    <tr>\n",
       "      <th>d3</th>\n",
       "      <td>1.000000</td>\n",
       "      <td>0.200000</td>\n",
       "    </tr>\n",
       "  </tbody>\n",
       "</table>\n",
       "</div>"
      ],
      "text/plain": [
       "        Recall  Precision\n",
       "d56   0.333333   0.333333\n",
       "d129  0.666667   0.250000\n",
       "d3    1.000000   0.200000"
      ]
     },
     "execution_count": 6,
     "metadata": {},
     "output_type": "execute_result"
    }
   ],
   "source": [
    "recallList2,precisionList2,commonDocuments2 = getRecallAndPrecision(related_documents_2,answer_set_2)\n",
    "df2 = getDataFrame(recallList2,precisionList2,commonDocuments2)\n",
    "df2"
   ]
  },
  {
   "cell_type": "code",
   "execution_count": 7,
   "metadata": {},
   "outputs": [
    {
     "name": "stdout",
     "output_type": "stream",
     "text": [
      "R-Precision for first set :  0.4\n"
     ]
    }
   ],
   "source": [
    "print(\"R-Precision for first set : \",getR_precision(related_documents,answer_set))"
   ]
  },
  {
   "cell_type": "code",
   "execution_count": 8,
   "metadata": {},
   "outputs": [
    {
     "name": "stdout",
     "output_type": "stream",
     "text": [
      "R-Precision for second set :  0.3333333333333333\n"
     ]
    }
   ],
   "source": [
    "print(\"R-Precision for second set : \",getR_precision(related_documents_2,answer_set_2))"
   ]
  },
  {
   "cell_type": "code",
   "execution_count": 9,
   "metadata": {},
   "outputs": [
    {
     "name": "stdout",
     "output_type": "stream",
     "text": [
      "[0, 0.1, 0.2, 0.3, 0.4, 0.5, 0.6, 0.7, 0.8, 0.9, 1.0]\n",
      " \n",
      "[1.0, 1.0, 0.6666666666666666, 0.5, 0.4, 0.3333333333333333, 0, 0, 0, 0, 0]\n"
     ]
    }
   ],
   "source": [
    "rp_dict_1 = {\"doc\":commonDocuments,\"recall\":recallList,\"precision\":precisionList}\n",
    "recall_1,precision_1 = standard11Recall(rp_dict_1) \n",
    "print(recall_1)\n",
    "print(\" \")\n",
    "print(precision_1)"
   ]
  },
  {
   "cell_type": "code",
   "execution_count": 10,
   "metadata": {},
   "outputs": [
    {
     "data": {
      "image/png": "[encoded data removed]",
      "text/plain": [
       "<Figure size 432x288 with 1 Axes>"
      ]
     },
     "metadata": {
      "needs_background": "light"
     },
     "output_type": "display_data"
    }
   ],
   "source": [
    "plt.plot(recall_1,precision_1,\"bo-\")\n",
    "plt.gca().xaxis.set_major_formatter(PercentFormatter(1))\n",
    "plt.gca().yaxis.set_major_formatter(PercentFormatter(1))\n",
    "plt.title(\"Precision vs Recall at 11 standard recall levels\")\n",
    "plt.xlabel(\"Recall\")\n",
    "plt.ylabel(\"Precision\")\n",
    "plt.show()"
   ]
  },
  {
   "cell_type": "markdown",
   "metadata": {},
   "source": [
    "## Part 2"
   ]
  },
  {
   "cell_type": "code",
   "execution_count": 12,
   "metadata": {},
   "outputs": [],
   "source": [
    "rd1 = ['d15', 'd6', 'd7', 'd3', 'd18', 'd17', 'd10', 'd5', 'd11']\n",
    "rd2 = ['d13', 'd18', 'd17', 'd5', 'd1', 'd12', 'd2', 'd15']\n",
    "rd3 = ['d5', 'd7', 'd6', 'd8', 'd9', 'd3', 'd4']\n",
    "rd4 = ['d1', 'd15', 'd7', 'd3', 'd16', 'd8', 'd17', 'd19', 'd5']\n",
    "rd5 = ['d19', 'd17', 'd14', 'd18', 'd1', 'd5', 'd16', 'd20', 'd11']\n",
    "\n",
    "algo_A_answer_set_1 = ['d7', 'd12', 'd10', 'd1', 'd2', 'd18', 'd19', 'd5', 'd8', 'd6', 'd11', 'd9', 'd3', 'd15', 'd14', 'd16']\n",
    "algo_A_answer_set_2 = ['d3', 'd2', 'd18', 'd15', 'd16', 'd1', 'd19', 'd13', 'd20', 'd7', 'd4', 'd6', 'd5', 'd17']\n",
    "algo_A_answer_set_3 = ['d14', 'd19', 'd9', 'd12', 'd5', 'd6', 'd16', 'd15', 'd2', 'd3', 'd17', 'd1', 'd13']\n",
    "algo_A_answer_set_4 = ['d13', 'd15', 'd6', 'd9', 'd4', 'd18', 'd7', 'd3', 'd11', 'd16', 'd14', 'd5', 'd8', 'd20', 'd10', 'd2']\n",
    "algo_A_answer_set_5 = ['d1', 'd18', 'd6', 'd3', 'd5', 'd9', 'd11', 'd2', 'd17', 'd10', 'd15', 'd13', 'd4']\n",
    "\n",
    "algo_B_answer_set_1 = ['d20', 'd2', 'd9', 'd3', 'd14', 'd12', 'd18', 'd4', 'd10', 'd6', 'd11', 'd17', 'd1', 'd16', 'd8']\n",
    "algo_B_answer_set_2 = ['d11', 'd19', 'd4', 'd5', 'd1', 'd20', 'd18', 'd14', 'd3', 'd9', 'd16', 'd15', 'd17']\n",
    "algo_B_answer_set_3 = ['d2', 'd8', 'd3', 'd10', 'd18', 'd1', 'd12', 'd15', 'd20', 'd17', 'd6', 'd5', 'd19', 'd4', 'd11']\n",
    "algo_B_answer_set_4 = ['d20', 'd7', 'd16', 'd13', 'd5', 'd9', 'd19', 'd18', 'd12', 'd1', 'd17', 'd8', 'd15', 'd14']\n",
    "algo_B_answer_set_5 = ['d6', 'd8', 'd3', 'd12', 'd4', 'd18', 'd1', 'd15', 'd20', 'd11', 'd7', 'd17', 'd14']\n"
   ]
  },
  {
   "cell_type": "code",
   "execution_count": 13,
   "metadata": {},
   "outputs": [],
   "source": [
    "revelent_docs_combined = [rd1,rd2,rd3,rd4,rd5]\n",
    "algo_A_combined = [algo_A_answer_set_1,algo_A_answer_set_2,algo_A_answer_set_3,algo_A_answer_set_4,algo_A_answer_set_5]\n",
    "algo_b_combined = [algo_B_answer_set_1,algo_B_answer_set_2,algo_B_answer_set_3,algo_B_answer_set_4,algo_B_answer_set_5]"
   ]
  },
  {
   "cell_type": "code",
   "execution_count": 14,
   "metadata": {},
   "outputs": [
    {
     "name": "stdout",
     "output_type": "stream",
     "text": [
      "[0.4444444444444444, 0.625, 0.42857142857142855, 0.3333333333333333, 0.5555555555555556]\n"
     ]
    }
   ],
   "source": [
    "r_precision_list_A=[]\n",
    "for releventDocs,answerSetAlgoA in zip(revelent_docs_combined,algo_A_combined):\n",
    "    p = getR_precision(releventDocs,answerSetAlgoA)\n",
    "    r_precision_list_A.append(p)\n",
    "print(r_precision_list_A)   "
   ]
  },
  {
   "cell_type": "code",
   "execution_count": 15,
   "metadata": {},
   "outputs": [
    {
     "name": "stdout",
     "output_type": "stream",
     "text": [
      "[0.3333333333333333, 0.375, 0.2857142857142857, 0.4444444444444444, 0.3333333333333333]\n"
     ]
    }
   ],
   "source": [
    "r_precision_list_B=[]\n",
    "for releventDocs,answerSetAlgoB in zip(revelent_docs_combined,algo_b_combined):\n",
    "    p = getR_precision(releventDocs,answerSetAlgoB)\n",
    "    r_precision_list_B.append(p)\n",
    "print(r_precision_list_B)  "
   ]
  },
  {
   "cell_type": "code",
   "execution_count": 16,
   "metadata": {},
   "outputs": [
    {
     "name": "stdout",
     "output_type": "stream",
     "text": [
      "[0.1111111111111111, 0.25, 0.14285714285714285, -0.1111111111111111, 0.22222222222222227]\n"
     ]
    }
   ],
   "source": [
    "algo_AB_r_precision = [A-B for A,B in zip(r_precision_list_A,r_precision_list_B)]\n",
    "print(algo_AB_r_precision)"
   ]
  },
  {
   "cell_type": "code",
   "execution_count": 17,
   "metadata": {},
   "outputs": [
    {
     "data": {
      "image/png": "[encoded data removed]",
      "text/plain": [
       "<Figure size 432x288 with 1 Axes>"
      ]
     },
     "metadata": {
      "needs_background": "light"
     },
     "output_type": "display_data"
    }
   ],
   "source": [
    "plt.bar(list(range(1,6)),algo_AB_r_precision,color=\"red\",width=0.8)\n",
    "plt.xticks(list(range(1,6)))\n",
    "plt.ylim(-1.5,1.5)\n",
    "plt.axhline(y = 0, color=\"black\",linestyle = '-')\n",
    "plt.xlabel(\"Query Number\")\n",
    "plt.ylabel(\"R Precision algorithm A-B\")\n",
    "plt.title(\"Precision Histogram\")\n",
    "plt.show()"
   ]
  },
  {
   "cell_type": "markdown",
   "metadata": {},
   "source": [
    "## Part 3"
   ]
  },
  {
   "cell_type": "code",
   "execution_count": 9,
   "metadata": {},
   "outputs": [],
   "source": [
    "def harminicMean(h_recall_list,h_precision_list):\n",
    "    mean_list = []\n",
    "    for recall,precision in zip(h_recall_list,h_precision_list):\n",
    "        m = (2)/((1/recall)+(1/precision))\n",
    "        mean_list.append(m)\n",
    "    return mean_list\n",
    "\n",
    "def eMeans(e_recall_list,e_precision_list,b):\n",
    "    e_list = []\n",
    "    for recall,precision in zip(e_recall_list,e_precision_list):\n",
    "        m = 1-((1+(b**2))/(((b**2)/recall)+(1/precision)))\n",
    "        e_list.append(m)\n",
    "    return e_list\n",
    "    "
   ]
  },
  {
   "cell_type": "code",
   "execution_count": 10,
   "metadata": {},
   "outputs": [
    {
     "name": "stdout",
     "output_type": "stream",
     "text": [
      "Recall for first set :  [0.1, 0.2, 0.3, 0.4, 0.5]\n",
      "\n",
      "Precision for first list :  [1.0, 0.6666666666666666, 0.5, 0.4, 0.3333333333333333]\n",
      "\n",
      "Harmonic Mean for first set : [0.18181818181818182, 0.3076923076923077, 0.37499999999999994, 0.4, 0.4]\n"
     ]
    }
   ],
   "source": [
    "harmonic_mean = harminicMean(recallList,precisionList)\n",
    "print(\"Recall for first set : \",recallList)\n",
    "print(\"\")\n",
    "print(\"Precision for first list : \",precisionList)\n",
    "print(\"\")\n",
    "print(\"Harmonic Mean for first set :\",harmonic_mean)"
   ]
  },
  {
   "cell_type": "code",
   "execution_count": 11,
   "metadata": {},
   "outputs": [
    {
     "name": "stdout",
     "output_type": "stream",
     "text": [
      "E-means for first set when b = 1 :  [0.8181818181818181, 0.6923076923076923, 0.625, 0.6, 0.6]\n",
      "E-means for first set when b < 1 b=0.2 :  [0.25714285714285723, 0.388235294117647, 0.5125, 0.6, 0.6623376623376623]\n",
      "E-means for first set when b > 1 b=3 :  [0.8901098901098901, 0.7849462365591398, 0.6875, 0.6, 0.5238095238095238]\n"
     ]
    }
   ],
   "source": [
    "print(\"E-means for first set when b = 1 : \",eMeans(recallList,precisionList,1))\n",
    "print(\"E-means for first set when b < 1 b=0.2 : \",eMeans(recallList,precisionList,0.2))\n",
    "print(\"E-means for first set when b > 1 b=3 : \",eMeans(recallList,precisionList,3))"
   ]
  },
  {
   "cell_type": "code",
   "execution_count": null,
   "metadata": {},
   "outputs": [],
   "source": []
  }
 ],
 "metadata": {
  "kernelspec": {
   "display_name": "Python 3",
   "language": "python",
   "name": "python3"
  },
  "language_info": {
   "codemirror_mode": {
    "name": "ipython",
    "version": 3
   },
   "file_extension": ".py",
   "mimetype": "text/x-python",
   "name": "python",
   "nbconvert_exporter": "python",
   "pygments_lexer": "ipython3",
   "version": "3.7.6"
  }
 },
 "nbformat": 4,
 "nbformat_minor": 4
}
